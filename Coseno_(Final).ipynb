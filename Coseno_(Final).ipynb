{
  "nbformat": 4,
  "nbformat_minor": 0,
  "metadata": {
    "colab": {
      "provenance": []
    },
    "kernelspec": {
      "name": "python3",
      "display_name": "Python 3"
    },
    "language_info": {
      "name": "python"
    }
  },
  "cells": [
    {
      "cell_type": "code",
      "execution_count": 41,
      "metadata": {
        "id": "Fv9fMVpIw_3Z",
        "colab": {
          "base_uri": "https://localhost:8080/",
          "height": 449
        },
        "outputId": "9eafee86-1045-4ab8-908a-29442c7512ed"
      },
      "outputs": [
        {
          "output_type": "display_data",
          "data": {
            "text/plain": [
              "<Figure size 640x480 with 1 Axes>"
            ],
            "image/png": "[encoded data removed]"
          },
          "metadata": {}
        }
      ],
      "source": [
        "import matplotlib.pyplot as plt\n",
        "import numpy as np\n",
        "\n",
        "x = np.array([185, 170, 168, 179, 182, 188])\n",
        "y = np.array([72, 56, 60, 68, 72, 77])\n",
        "\n",
        "# Ploteo\n",
        "plt.scatter(x, y, color='black')\n",
        "plt.xlabel('Variable X')\n",
        "plt.ylabel('Variable Y')\n",
        "plt.show()"
      ]
    },
    {
      "cell_type": "markdown",
      "source": [
        "**SIMILITUD DEL COSENO**"
      ],
      "metadata": {
        "id": "IgfC5TSFnR1N"
      }
    },
    {
      "cell_type": "markdown",
      "source": [
        "![image.png](data:image/png;base64,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)"
      ],
      "metadata": {
        "id": "fjp9mpV92ZEq"
      }
    },
    {
      "cell_type": "code",
      "source": [
        "def coseno(x, y):\n",
        "    dot_product = np.dot(x, y)\n",
        "    norm_x = np.linalg.norm(x)\n",
        "    norm_y = np.linalg.norm(y)\n",
        "    resultado = dot_product / (norm_x * norm_y)\n",
        "    return resultado\n",
        "\n",
        "# Coseno sin centrar los vectores\n",
        "coseno_sin_centrar = coseno(x, y)\n",
        "print(coseno_sin_centrar)"
      ],
      "metadata": {
        "colab": {
          "base_uri": "https://localhost:8080/"
        },
        "id": "vUCsza5GZyZj",
        "outputId": "60e74b05-0c38-4c9c-ed04-a668ec68d0bb"
      },
      "execution_count": 42,
      "outputs": [
        {
          "output_type": "stream",
          "name": "stdout",
          "text": [
            "0.9976417631668109\n"
          ]
        }
      ]
    },
    {
      "cell_type": "code",
      "source": [
        "# Centrar los vectores\n",
        "x_centrado = x - np.mean(x)\n",
        "y_centrado = y - np.mean(y)\n",
        "\n",
        "# Coseno después de centrar los vectores\n",
        "coseno_centrado = coseno(x_centrado, y_centrado)\n",
        "print(coseno_centrado)"
      ],
      "metadata": {
        "colab": {
          "base_uri": "https://localhost:8080/"
        },
        "id": "YVRPa9KobRv6",
        "outputId": "08730abf-b8d3-469b-9082-f5b3ad91a6ad"
      },
      "execution_count": 43,
      "outputs": [
        {
          "output_type": "stream",
          "name": "stdout",
          "text": [
            "0.9647705683244996\n"
          ]
        }
      ]
    },
    {
      "cell_type": "markdown",
      "source": [
        "**RESUMEN**"
      ],
      "metadata": {
        "id": "BGgBX2AQnNkm"
      }
    },
    {
      "cell_type": "code",
      "source": [
        "import numpy as np\n",
        "\n",
        "# Datos de entrada\n",
        "x = np.array([185, 170, 168, 179, 182, 188])\n",
        "y = np.array([72, 56, 60, 68, 72, 77])\n",
        "\n",
        "def coseno_correlacion(x, y):\n",
        "    def coseno(a, b):\n",
        "        dot_product = np.dot(a, b)\n",
        "        norm_a = np.linalg.norm(a)\n",
        "        norm_b = np.linalg.norm(b)\n",
        "        resultado = dot_product / (norm_a * norm_b)\n",
        "        return resultado\n",
        "\n",
        "    # Centrar los vectores\n",
        "    x_centrado = x - np.mean(x)\n",
        "    y_centrado = y - np.mean(y)\n",
        "\n",
        "    # Calcular el coseno después de centrar los vectores\n",
        "    coseno_centrado = coseno(x_centrado, y_centrado)\n",
        "\n",
        "    return coseno_centrado\n",
        "\n",
        "resultado = coseno_correlacion(x, y)\n",
        "\n",
        "print(\"Coseno después de centrar los vectores:\", resultado)"
      ],
      "metadata": {
        "colab": {
          "base_uri": "https://localhost:8080/"
        },
        "id": "wUil_LgTkgMZ",
        "outputId": "fd7a4657-81eb-47a2-bce7-e313b0e89838"
      },
      "execution_count": 44,
      "outputs": [
        {
          "output_type": "stream",
          "name": "stdout",
          "text": [
            "Coseno después de centrar los vectores: 0.9647705683244996\n"
          ]
        }
      ]
    }
  ]
}
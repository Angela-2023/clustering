{
  "nbformat": 4,
  "nbformat_minor": 0,
  "metadata": {
    "colab": {
      "provenance": []
    },
    "kernelspec": {
      "name": "python3",
      "display_name": "Python 3"
    },
    "language_info": {
      "name": "python"
    }
  },
  "cells": [
    {
      "cell_type": "code",
      "execution_count": 1,
      "metadata": {
        "id": "jgEVQoPb38dl"
      },
      "outputs": [],
      "source": [
        "# Importación de librerías\n",
        "import matplotlib.pyplot as plt\n",
        "import numpy as np"
      ]
    },
    {
      "cell_type": "code",
      "source": [
        "x = np.array([185, 170, 168, 179, 182, 188])\n",
        "y = np.array([72, 56, 60, 68, 72, 77])"
      ],
      "metadata": {
        "id": "Di6XsNVg4Edd"
      },
      "execution_count": 2,
      "outputs": []
    },
    {
      "cell_type": "code",
      "source": [
        "plt.scatter(x, y, color='black')\n",
        "plt.xlabel('x')\n",
        "plt.ylabel('y')\n",
        "plt.xlim(167, 189)\n",
        "plt.ylim(54.6, 78.4)\n",
        "plt.show()"
      ],
      "metadata": {
        "colab": {
          "base_uri": "https://localhost:8080/",
          "height": 449
        },
        "id": "Av3u7Syz4G3l",
        "outputId": "65de3d31-a744-4659-ed2d-23368a63fd59"
      },
      "execution_count": 3,
      "outputs": [
        {
          "output_type": "display_data",
          "data": {
            "text/plain": [
              "<Figure size 640x480 with 1 Axes>"
            ],
            "image/png": "[encoded data removed]"
          },
          "metadata": {}
        }
      ]
    },
    {
      "cell_type": "code",
      "source": [
        "# Parámetros\n",
        "centroide1 = np.array([185, 72])\n",
        "centroide2 = np.array([170, 56])"
      ],
      "metadata": {
        "id": "pXDPPGg34T3F"
      },
      "execution_count": 4,
      "outputs": []
    },
    {
      "cell_type": "markdown",
      "source": [
        "**DISTANCIA EUCLIDIANA**"
      ],
      "metadata": {
        "id": "i9yo6zdK4Cl3"
      }
    },
    {
      "cell_type": "markdown",
      "source": [
        "$\\displaystyle \\text{distancia}$ $\\displaystyle {({\\mathbf{C}}, {\\mathbf{p}})}= \\sqrt{(\\mathbf{C}_0 - \\mathbf{p}_0)^2 + (\\mathbf{C}_1 - \\mathbf{p}_1)^2}$"
      ],
      "metadata": {
        "id": "soPGLyGg8-l7"
      }
    },
    {
      "cell_type": "markdown",
      "source": [
        "<font color=\"darkmagenta\">Para el primer punto (185,72)"
      ],
      "metadata": {
        "id": "FHjKwLSADWtd"
      }
    },
    {
      "cell_type": "code",
      "source": [
        "punto1 = np.array([x[0], y[0]])\n",
        "\n",
        "# Cálculo de distancias\n",
        "distancia_centroide1 = np.sqrt((centroide1[0] - punto1[0])**2 + (centroide1[1] - punto1[1])**2)\n",
        "distancia_centroide2 = np.sqrt((centroide2[0] - punto1[0])**2 + (centroide2[1] - punto1[1])**2)\n",
        "\n",
        "# Asignación de punto a cluster\n",
        "if distancia_centroide1 < distancia_centroide2:\n",
        "    cluster_asignado_punto1 = 1\n",
        "else:\n",
        "    cluster_asignado_punto1 = 2\n",
        "\n",
        "# Tabla\n",
        "print(\"Dataset\\t\\t|Cluster 1\\t|Cluster 2\\t|Assignment\")\n",
        "print(f\"({punto1[0]},{punto1[1]})\\t|{distancia_centroide1:.2f}\\t\\t|{distancia_centroide2:.2f}\\t\\t|{cluster_asignado_punto1}\")"
      ],
      "metadata": {
        "colab": {
          "base_uri": "https://localhost:8080/"
        },
        "id": "kHRN-xuB5Jpq",
        "outputId": "0ece34a5-4e1e-4cfd-a52d-40b85f34fc3e"
      },
      "execution_count": 5,
      "outputs": [
        {
          "output_type": "stream",
          "name": "stdout",
          "text": [
            "Dataset\t\t|Cluster 1\t|Cluster 2\t|Assignment\n",
            "(185,72)\t|0.00\t\t|21.93\t\t|1\n"
          ]
        }
      ]
    },
    {
      "cell_type": "markdown",
      "source": [
        "Actualización de los Centroides:<br>\n",
        "Centroide 1: Se actualiza como el promedio del centroide actual y el nuevo punto asignado al cluster 1 (Punto 1).<br>\n",
        "Centroide 2: Se mantiene igual en (170, 56)."
      ],
      "metadata": {
        "id": "xtuwYlFoBVfM"
      }
    },
    {
      "cell_type": "code",
      "source": [
        "# Actualización del centroide 1\n",
        "centroide1 = [(centroide1[0] + punto1[0])/2, (centroide1[1] + punto1[1])/2]\n",
        "print(f'Centroide 1: ({centroide1})')"
      ],
      "metadata": {
        "colab": {
          "base_uri": "https://localhost:8080/"
        },
        "id": "PPT2ATJgDwvE",
        "outputId": "d7736958-6eca-40af-e0d3-f4064a8fac25"
      },
      "execution_count": 6,
      "outputs": [
        {
          "output_type": "stream",
          "name": "stdout",
          "text": [
            "Centroide 1: ([185.0, 72.0])\n"
          ]
        }
      ]
    },
    {
      "cell_type": "code",
      "source": [
        "plt.scatter(x, y, color='black')\n",
        "plt.scatter(punto1[0], punto1[1], color='blueviolet', marker='o')\n",
        "plt.scatter(centroide1[0], centroide1[1], color='blueviolet', marker='x', s=100)\n",
        "plt.scatter(centroide2[0], centroide2[1], color='red', marker='x', s=100)\n",
        "plt.xlabel('x')\n",
        "plt.ylabel('y')\n",
        "plt.xlim(167, 189)\n",
        "plt.ylim(54.6, 78.4)\n",
        "plt.show()"
      ],
      "metadata": {
        "colab": {
          "base_uri": "https://localhost:8080/",
          "height": 449
        },
        "id": "wGMhM4Eq_vZZ",
        "outputId": "28e342b0-14ae-43ec-aff1-2c2e92f73ca7"
      },
      "execution_count": 7,
      "outputs": [
        {
          "output_type": "display_data",
          "data": {
            "text/plain": [
              "<Figure size 640x480 with 1 Axes>"
            ],
            "image/png": "[encoded data removed]"
          },
          "metadata": {}
        }
      ]
    },
    {
      "cell_type": "markdown",
      "source": [
        "<font color=\"darkmagenta\">Para el segundo punto (170,56)"
      ],
      "metadata": {
        "id": "qmG_n-NoD5sU"
      }
    },
    {
      "cell_type": "code",
      "source": [
        "punto2 = np.array([x[1], y[1]])\n",
        "\n",
        "# Cálculo de distancias\n",
        "distancia_centroide1 = np.sqrt((centroide1[0] - punto2[0])**2 + (centroide1[1] - punto2[1])**2)\n",
        "distancia_centroide2 = np.sqrt((centroide2[0] - punto2[0])**2 + (centroide2[1] - punto2[1])**2)\n",
        "\n",
        "# Asignación de punto a cluster\n",
        "if distancia_centroide1 < distancia_centroide2:\n",
        "    cluster_asignado_punto2 = 1\n",
        "else:\n",
        "    cluster_asignado_punto2 = 2\n",
        "\n",
        "# Tabla\n",
        "print(\"Dataset\\t\\t|Cluster 1\\t|Cluster 2\\t|Assignment\")\n",
        "print(f\"({punto2[0]},{punto2[1]})\\t|{distancia_centroide1:.2f}\\t\\t|{distancia_centroide2:.2f}\\t\\t|{cluster_asignado_punto2}\")"
      ],
      "metadata": {
        "colab": {
          "base_uri": "https://localhost:8080/"
        },
        "id": "dSYu5KIA7Sfl",
        "outputId": "d9b237cd-a1e7-48ca-8824-61f631ad3454"
      },
      "execution_count": 8,
      "outputs": [
        {
          "output_type": "stream",
          "name": "stdout",
          "text": [
            "Dataset\t\t|Cluster 1\t|Cluster 2\t|Assignment\n",
            "(170,56)\t|21.93\t\t|0.00\t\t|2\n"
          ]
        }
      ]
    },
    {
      "cell_type": "markdown",
      "source": [
        "Actualización de los Centroides:<br>\n",
        "Centroide 1: Se mantiene igual en (185, 72).<br>\n",
        "Centroide 2: Se actualiza como el promedio del centroide actual y el nuevo punto asignado al cluster 2 (Punto 2)."
      ],
      "metadata": {
        "id": "OAoi2c0df7NW"
      }
    },
    {
      "cell_type": "code",
      "source": [
        "# Actualización del centroide 2\n",
        "centroide2 = [(centroide2[0] + punto2[0])/2, (centroide2[1] + punto2[1])/2]\n",
        "print(f'Centroide 2: ({centroide2})')"
      ],
      "metadata": {
        "colab": {
          "base_uri": "https://localhost:8080/"
        },
        "id": "Lhb5J6t4HdTH",
        "outputId": "3b59dae4-5a72-4b27-9ad5-13e6a49783d7"
      },
      "execution_count": 9,
      "outputs": [
        {
          "output_type": "stream",
          "name": "stdout",
          "text": [
            "Centroide 2: ([170.0, 56.0])\n"
          ]
        }
      ]
    },
    {
      "cell_type": "code",
      "source": [
        "plt.scatter(x, y, color='black')\n",
        "plt.scatter(punto1[0], punto1[1], color='blueviolet', marker='o')\n",
        "plt.scatter(punto2[0], punto2[1], color='red', marker='o')\n",
        "plt.scatter(centroide1[0], centroide1[1], color='blueviolet', marker='x', s=100)\n",
        "plt.scatter(centroide2[0], centroide2[1], color='red', marker='x', s=100)\n",
        "plt.xlabel('x')\n",
        "plt.ylabel('y')\n",
        "plt.xlim(167, 189)\n",
        "plt.ylim(54.6, 78.4)\n",
        "plt.show()"
      ],
      "metadata": {
        "colab": {
          "base_uri": "https://localhost:8080/",
          "height": 449
        },
        "id": "VOUhbFKLG1pm",
        "outputId": "1c27b0a0-0db2-4827-ae0e-ba76cc494e83"
      },
      "execution_count": 10,
      "outputs": [
        {
          "output_type": "display_data",
          "data": {
            "text/plain": [
              "<Figure size 640x480 with 1 Axes>"
            ],
            "image/png": "[encoded data removed]"
          },
          "metadata": {}
        }
      ]
    },
    {
      "cell_type": "markdown",
      "source": [
        "<font color=\"darkmagenta\">Para el tercer punto (168,60)"
      ],
      "metadata": {
        "id": "UGI2cARaHm7B"
      }
    },
    {
      "cell_type": "code",
      "source": [
        "punto3 = np.array([x[2], y[2]])\n",
        "\n",
        "# Cálculo de distancias\n",
        "distancia_centroide1 = np.sqrt((centroide1[0] - punto3[0])**2 + (centroide1[1] - punto3[1])**2)\n",
        "distancia_centroide2 = np.sqrt((centroide2[0] - punto3[0])**2 + (centroide2[1] - punto3[1])**2)\n",
        "\n",
        "# Asignación de punto a cluster\n",
        "if distancia_centroide1 < distancia_centroide2:\n",
        "    cluster_asignado_punto3 = 1\n",
        "else:\n",
        "    cluster_asignado_punto3 = 2\n",
        "\n",
        "# Tabla\n",
        "print(\"Dataset\\t\\t|Cluster 1\\t|Cluster 2\\t|Assignment\")\n",
        "print(f\"({punto3[0]},{punto3[1]})\\t|{distancia_centroide1:.2f}\\t\\t|{distancia_centroide2:.2f}\\t\\t|{cluster_asignado_punto3}\")"
      ],
      "metadata": {
        "colab": {
          "base_uri": "https://localhost:8080/"
        },
        "id": "xDNQKVte8nH4",
        "outputId": "b6e010ab-06b6-4ba4-8bab-5254a81b9223"
      },
      "execution_count": 11,
      "outputs": [
        {
          "output_type": "stream",
          "name": "stdout",
          "text": [
            "Dataset\t\t|Cluster 1\t|Cluster 2\t|Assignment\n",
            "(168,60)\t|20.81\t\t|4.47\t\t|2\n"
          ]
        }
      ]
    },
    {
      "cell_type": "markdown",
      "source": [
        "Actualización de los Centroides:<br>\n",
        "Centroide 1: Se mantiene igual en (185, 72).<br>\n",
        "Centroide 2: Se actualiza como el promedio del centroide actual y el nuevo punto asignado al cluster 2 (Punto 3)."
      ],
      "metadata": {
        "id": "B1NYR7qmhNsq"
      }
    },
    {
      "cell_type": "code",
      "source": [
        "# Actualización del centroide 2\n",
        "centroide2 = [(centroide2[0] + punto3[0])/2, (centroide2[1] + punto3[1])/2]\n",
        "print(f'Centroide 2: ({centroide2})')"
      ],
      "metadata": {
        "id": "DE1qEvpc9oxm",
        "colab": {
          "base_uri": "https://localhost:8080/"
        },
        "outputId": "add22e21-28c2-4fa8-b589-ec7951fc945a"
      },
      "execution_count": 12,
      "outputs": [
        {
          "output_type": "stream",
          "name": "stdout",
          "text": [
            "Centroide 2: ([169.0, 58.0])\n"
          ]
        }
      ]
    },
    {
      "cell_type": "code",
      "source": [
        "plt.scatter(x, y, color='black')\n",
        "plt.scatter(punto1[0], punto1[1], color='blueviolet', marker='o')\n",
        "plt.scatter(punto2[0], punto2[1], color='red', marker='o')\n",
        "plt.scatter(punto3[0], punto3[1], color='red', marker='o')\n",
        "plt.scatter(centroide1[0], centroide1[1], color='blueviolet', marker='x', s=100)\n",
        "plt.scatter(centroide2[0], centroide2[1], color='red', marker='x', s=100)\n",
        "plt.xlabel('x')\n",
        "plt.ylabel('y')\n",
        "plt.xlim(167, 189)\n",
        "plt.ylim(54.6, 78.4)\n",
        "plt.show()"
      ],
      "metadata": {
        "colab": {
          "base_uri": "https://localhost:8080/",
          "height": 449
        },
        "id": "RIG27iDnQEhN",
        "outputId": "1f50419e-1f63-4b9e-d513-8bece839d02e"
      },
      "execution_count": 13,
      "outputs": [
        {
          "output_type": "display_data",
          "data": {
            "text/plain": [
              "<Figure size 640x480 with 1 Axes>"
            ],
            "image/png": "[encoded data removed]"
          },
          "metadata": {}
        }
      ]
    },
    {
      "cell_type": "markdown",
      "source": [
        "<font color=\"darkmagenta\">Para el cuarto punto (179,68)"
      ],
      "metadata": {
        "id": "sc8NXOn2mzAE"
      }
    },
    {
      "cell_type": "code",
      "source": [
        "punto4 = np.array([x[3], y[3]])\n",
        "\n",
        "# Cálculo de distancias\n",
        "distancia_centroide1 = np.sqrt((centroide1[0] - punto4[0])**2 + (centroide1[1] - punto4[1])**2)\n",
        "distancia_centroide2 = np.sqrt((centroide2[0] - punto4[0])**2 + (centroide2[1] - punto4[1])**2)\n",
        "\n",
        "# Asignación de punto a cluster\n",
        "if distancia_centroide1 < distancia_centroide2:\n",
        "    cluster_asignado_punto4 = 1\n",
        "else:\n",
        "    cluster_asignado_punto4 = 2\n",
        "\n",
        "# Tabla\n",
        "print(\"Dataset\\t\\t|Cluster 1\\t|Cluster 2\\t|Assignment\")\n",
        "print(f\"({punto4[0]},{punto4[1]})\\t|{distancia_centroide1:.2f}\\t\\t|{distancia_centroide2:.2f}\\t\\t|{cluster_asignado_punto4}\")"
      ],
      "metadata": {
        "colab": {
          "base_uri": "https://localhost:8080/"
        },
        "id": "PNzABtrymu_y",
        "outputId": "7ec25353-1172-45f4-8186-ca1d06f1e105"
      },
      "execution_count": 14,
      "outputs": [
        {
          "output_type": "stream",
          "name": "stdout",
          "text": [
            "Dataset\t\t|Cluster 1\t|Cluster 2\t|Assignment\n",
            "(179,68)\t|7.21\t\t|14.14\t\t|1\n"
          ]
        }
      ]
    },
    {
      "cell_type": "markdown",
      "source": [
        "Actualización de los Centroides:<br>\n",
        "Centroide 1: Se actualiza como el promedio del centroide actual y el nuevo punto asignado al cluster 1 (Punto 4).<br>\n",
        "Centroide 2: Se mantiene igual en (169, 58)."
      ],
      "metadata": {
        "id": "Zf2V3e9yoGtm"
      }
    },
    {
      "cell_type": "code",
      "source": [
        "# Actualización del centroide 1\n",
        "centroide1 = [(centroide1[0] + punto4[0])/2, (centroide1[1] + punto4[1])/2]\n",
        "print(f'Centroide 1: ({centroide1})')"
      ],
      "metadata": {
        "colab": {
          "base_uri": "https://localhost:8080/"
        },
        "id": "fkxWHb0znYWQ",
        "outputId": "8a8a5867-c269-4168-b965-4268acaaf827"
      },
      "execution_count": 15,
      "outputs": [
        {
          "output_type": "stream",
          "name": "stdout",
          "text": [
            "Centroide 1: ([182.0, 70.0])\n"
          ]
        }
      ]
    },
    {
      "cell_type": "code",
      "source": [
        "plt.scatter(x, y, color='black')\n",
        "plt.scatter(punto1[0], punto1[1], color='blueviolet', marker='o')\n",
        "plt.scatter(punto2[0], punto2[1], color='red', marker='o')\n",
        "plt.scatter(punto3[0], punto3[1], color='red', marker='o')\n",
        "plt.scatter(punto4[0], punto4[1], color='blueviolet', marker='o')\n",
        "plt.scatter(centroide1[0], centroide1[1], color='blueviolet', marker='x', s=100)\n",
        "plt.scatter(centroide2[0], centroide2[1], color='red', marker='x', s=100)\n",
        "plt.xlabel('x')\n",
        "plt.ylabel('y')\n",
        "plt.xlim(167, 189)\n",
        "plt.ylim(54.6, 78.4)\n",
        "plt.show()"
      ],
      "metadata": {
        "colab": {
          "base_uri": "https://localhost:8080/",
          "height": 449
        },
        "id": "FKp0dePAQgIj",
        "outputId": "8c83df82-15f3-42f1-e238-9bb5038a1f82"
      },
      "execution_count": 16,
      "outputs": [
        {
          "output_type": "display_data",
          "data": {
            "text/plain": [
              "<Figure size 640x480 with 1 Axes>"
            ],
            "image/png": "[encoded data removed]"
          },
          "metadata": {}
        }
      ]
    },
    {
      "cell_type": "markdown",
      "source": [
        "<font color=\"darkmagenta\">Para el quinto punto (182,72)"
      ],
      "metadata": {
        "id": "zz4Z0pHatfkB"
      }
    },
    {
      "cell_type": "code",
      "source": [
        "punto5 = np.array([x[4], y[4]])\n",
        "\n",
        "# Cálculo de distancias\n",
        "distancia_centroide1 = np.sqrt((centroide1[0] - punto5[0])**2 + (centroide1[1] - punto5[1])**2)\n",
        "distancia_centroide2 = np.sqrt((centroide2[0] - punto5[0])**2 + (centroide2[1] - punto5[1])**2)\n",
        "\n",
        "# Asignación de punto a cluster\n",
        "if distancia_centroide1 < distancia_centroide2:\n",
        "    cluster_asignado_punto5 = 1\n",
        "else:\n",
        "    cluster_asignado_punto5 = 2\n",
        "\n",
        "# Tabla\n",
        "print(\"Dataset\\t\\t|Cluster 1\\t|Cluster 2\\t|Assignment\")\n",
        "print(f\"({punto5[0]},{punto5[1]})\\t|{distancia_centroide1:.2f}\\t\\t|{distancia_centroide2:.2f}\\t\\t|{cluster_asignado_punto5}\")"
      ],
      "metadata": {
        "colab": {
          "base_uri": "https://localhost:8080/"
        },
        "id": "LDLZV2pmorad",
        "outputId": "cb71ae87-d929-483c-ea95-e9fe784e46ff"
      },
      "execution_count": 17,
      "outputs": [
        {
          "output_type": "stream",
          "name": "stdout",
          "text": [
            "Dataset\t\t|Cluster 1\t|Cluster 2\t|Assignment\n",
            "(182,72)\t|2.00\t\t|19.10\t\t|1\n"
          ]
        }
      ]
    },
    {
      "cell_type": "markdown",
      "source": [
        "Actualización de los Centroides:<br>\n",
        "Centroide 1: Se actualiza como el promedio del centroide actual y el nuevo punto asignado al cluster 1 (Punto 5).<br>\n",
        "Centroide 2: Se mantiene igual en (169, 58)."
      ],
      "metadata": {
        "id": "KYlevzkoumtV"
      }
    },
    {
      "cell_type": "code",
      "source": [
        "# Actualización del centroide 1\n",
        "centroide1 = [(centroide1[0] + punto5[0])/2, (centroide1[1] + punto5[1])/2]\n",
        "print(f'Centroide 1: ({centroide1})')"
      ],
      "metadata": {
        "colab": {
          "base_uri": "https://localhost:8080/"
        },
        "id": "gUgNUPOtujSF",
        "outputId": "c5755524-2067-47c4-c0e2-79c54fdca50d"
      },
      "execution_count": 18,
      "outputs": [
        {
          "output_type": "stream",
          "name": "stdout",
          "text": [
            "Centroide 1: ([182.0, 71.0])\n"
          ]
        }
      ]
    },
    {
      "cell_type": "code",
      "source": [
        "plt.scatter(x, y, color='black')\n",
        "plt.scatter(punto1[0], punto1[1], color='blueviolet', marker='o')\n",
        "plt.scatter(punto2[0], punto2[1], color='red', marker='o')\n",
        "plt.scatter(punto3[0], punto3[1], color='red', marker='o')\n",
        "plt.scatter(punto4[0], punto4[1], color='blueviolet', marker='o')\n",
        "plt.scatter(punto5[0], punto5[1], color='blueviolet', marker='o')\n",
        "plt.scatter(centroide1[0], centroide1[1], color='blueviolet', marker='x', s=100)\n",
        "plt.scatter(centroide2[0], centroide2[1], color='red', marker='x', s=100)\n",
        "plt.xlabel('x')\n",
        "plt.ylabel('y')\n",
        "plt.xlim(167, 189)\n",
        "plt.ylim(54.6, 78.4)\n",
        "plt.show()"
      ],
      "metadata": {
        "colab": {
          "base_uri": "https://localhost:8080/",
          "height": 449
        },
        "id": "bU9bZhELQydy",
        "outputId": "a2ebd33b-b399-4205-ef55-5e26646dcbd5"
      },
      "execution_count": 19,
      "outputs": [
        {
          "output_type": "display_data",
          "data": {
            "text/plain": [
              "<Figure size 640x480 with 1 Axes>"
            ],
            "image/png": "[encoded data removed]"
          },
          "metadata": {}
        }
      ]
    },
    {
      "cell_type": "markdown",
      "source": [
        "<font color=\"darkmagenta\">Para el sexto punto (188,77)"
      ],
      "metadata": {
        "id": "tgzHXelvxkbJ"
      }
    },
    {
      "cell_type": "code",
      "source": [
        "punto6 = np.array([x[5], y[5]])\n",
        "\n",
        "# Cálculo de distancias\n",
        "distancia_centroide1 = np.sqrt((centroide1[0] - punto6[0])**2 + (centroide1[1] - punto6[1])**2)\n",
        "distancia_centroide2 = np.sqrt((centroide2[0] - punto6[0])**2 + (centroide2[1] - punto6[1])**2)\n",
        "\n",
        "# Asignación de punto a cluster\n",
        "if distancia_centroide1 < distancia_centroide2:\n",
        "    cluster_asignado_punto6 = 1\n",
        "else:\n",
        "    cluster_asignado_punto6 = 2\n",
        "\n",
        "print(\"Dataset\\t\\t|Cluster 1\\t|Cluster 2\\t|Assignment\")\n",
        "print(f\"({punto6[0]},{punto6[1]})\\t|{distancia_centroide1:.2f}\\t\\t|{distancia_centroide2:.2f}\\t\\t|{cluster_asignado_punto6}\")"
      ],
      "metadata": {
        "colab": {
          "base_uri": "https://localhost:8080/"
        },
        "id": "_6YB9rV6xWmv",
        "outputId": "e7da0731-a941-4d9a-ca89-dcde1e2b09c4"
      },
      "execution_count": 20,
      "outputs": [
        {
          "output_type": "stream",
          "name": "stdout",
          "text": [
            "Dataset\t\t|Cluster 1\t|Cluster 2\t|Assignment\n",
            "(188,77)\t|8.49\t\t|26.87\t\t|1\n"
          ]
        }
      ]
    },
    {
      "cell_type": "markdown",
      "source": [
        "Actualización de los Centroides:<br>\n",
        "Centroide 1: Se actualiza como el promedio del centroide actual y el nuevo punto asignado al cluster 1 (Punto 6).<br>\n",
        "Centroide 2: Se mantiene igual en (169, 58)."
      ],
      "metadata": {
        "id": "MS0Fcy09yTcU"
      }
    },
    {
      "cell_type": "code",
      "source": [
        "# Actualización del centroide 1\n",
        "centroide1 = [(centroide1[0] + punto6[0])/2, (centroide1[1] + punto6[1])/2]\n",
        "print(f'Centroide 1: ({centroide1})')"
      ],
      "metadata": {
        "colab": {
          "base_uri": "https://localhost:8080/"
        },
        "id": "FRyCWlO2yqeM",
        "outputId": "f0a72dba-ad49-410e-edc2-1b7bd24faf8d"
      },
      "execution_count": 21,
      "outputs": [
        {
          "output_type": "stream",
          "name": "stdout",
          "text": [
            "Centroide 1: ([185.0, 74.0])\n"
          ]
        }
      ]
    },
    {
      "cell_type": "code",
      "source": [
        "plt.scatter(x, y, color='black')\n",
        "plt.scatter(punto1[0], punto1[1], color='blueviolet', marker='o')\n",
        "plt.scatter(punto2[0], punto2[1], color='red', marker='o')\n",
        "plt.scatter(punto3[0], punto3[1], color='red', marker='o')\n",
        "plt.scatter(punto4[0], punto4[1], color='blueviolet', marker='o')\n",
        "plt.scatter(punto5[0], punto5[1], color='blueviolet', marker='o')\n",
        "plt.scatter(punto6[0], punto6[1], color='blueviolet', marker='o')\n",
        "plt.scatter(centroide1[0], centroide1[1], color='blueviolet', marker='x', s=100)\n",
        "plt.scatter(centroide2[0], centroide2[1], color='red', marker='x', s=100)\n",
        "plt.xlabel('x')\n",
        "plt.ylabel('y')\n",
        "plt.xlim(167, 189)\n",
        "plt.ylim(54.6, 78.4)\n",
        "plt.show()"
      ],
      "metadata": {
        "colab": {
          "base_uri": "https://localhost:8080/",
          "height": 449
        },
        "id": "l0fKhAobRDI6",
        "outputId": "5f6c4dba-c841-4526-9cde-f66920ac6f83"
      },
      "execution_count": 22,
      "outputs": [
        {
          "output_type": "display_data",
          "data": {
            "text/plain": [
              "<Figure size 640x480 with 1 Axes>"
            ],
            "image/png": "[encoded data removed]"
          },
          "metadata": {}
        }
      ]
    },
    {
      "cell_type": "markdown",
      "source": [
        "<font color=\"darkmagenta\">Tabla de asignaciones finales"
      ],
      "metadata": {
        "id": "xfAEuiqy25XV"
      }
    },
    {
      "cell_type": "code",
      "source": [
        "print(\"Dataset No\\t|x\\t|y\\t|Assignment\")\n",
        "print(f\"{1}\\t\\t|{x[0]}\\t|{y[0]}\\t|{cluster_asignado_punto1}\")\n",
        "print(f\"{2}\\t\\t|{x[1]}\\t|{y[1]}\\t|{cluster_asignado_punto2}\")\n",
        "print(f\"{3}\\t\\t|{x[2]}\\t|{y[2]}\\t|{cluster_asignado_punto3}\")\n",
        "print(f\"{4}\\t\\t|{x[3]}\\t|{y[3]}\\t|{cluster_asignado_punto4}\")\n",
        "print(f\"{5}\\t\\t|{x[4]}\\t|{y[4]}\\t|{cluster_asignado_punto5}\")\n",
        "print(f\"{6}\\t\\t|{x[5]}\\t|{y[5]}\\t|{cluster_asignado_punto6}\")"
      ],
      "metadata": {
        "colab": {
          "base_uri": "https://localhost:8080/"
        },
        "id": "DMJoHkkJ4oJE",
        "outputId": "42b028f1-d547-478d-958e-21e1f951399f"
      },
      "execution_count": 23,
      "outputs": [
        {
          "output_type": "stream",
          "name": "stdout",
          "text": [
            "Dataset No\t|x\t|y\t|Assignment\n",
            "1\t\t|185\t|72\t|1\n",
            "2\t\t|170\t|56\t|2\n",
            "3\t\t|168\t|60\t|2\n",
            "4\t\t|179\t|68\t|1\n",
            "5\t\t|182\t|72\t|1\n",
            "6\t\t|188\t|77\t|1\n"
          ]
        }
      ]
    },
    {
      "cell_type": "markdown",
      "source": [
        "╴ ╴ ╴ ╴ ╴ ╴ ╴ ╴ ╴ ╴ ╴ ╴ ╴ ╴ ╴ ╴ ╴ ╴ ╴ ╴ ╴ ╴\n",
        "\n",
        "**RESUMEN DEL CLUSTERING CON DISTANCIA EUCLIDIANA**"
      ],
      "metadata": {
        "id": "1KkP_CV4XVTu"
      }
    },
    {
      "cell_type": "code",
      "source": [
        "import numpy as np\n",
        "\n",
        "x = np.array([185, 170, 168, 179, 182, 188])\n",
        "y = np.array([72, 56, 60, 68, 72, 77])\n",
        "\n",
        "centroides = np.array([[185, 72], [170, 56]])\n",
        "\n",
        "for i in range(len(x)):\n",
        "    punto = np.array([x[i], y[i]])\n",
        "\n",
        "    # Cálculo de distancias\n",
        "    distancias = np.sqrt(np.sum((centroides - punto) ** 2, axis=1))\n",
        "\n",
        "    # Asignación de punto a cluster\n",
        "    cluster_asignado = np.argmin(distancias)\n",
        "    print(f\"({x[i]}, {y[i]}) -> Cluster {cluster_asignado + 1} | Distancia al centroide 1: {distancias[0]:.2f}, Distancia al centroide 2: {distancias[1]:.2f}\")\n",
        "\n",
        "    # Actualización del centroide centroide asignado\n",
        "    centroides[cluster_asignado] = (centroides[cluster_asignado] + punto) / 2\n",
        "    print(f'Centroide {cluster_asignado + 1}: ({centroides[cluster_asignado]})')\n",
        "    print(\"\")\n",
        "\n",
        "for cluster in range(2):\n",
        "    print(f'Centroide {cluster + 1} final: ({centroides[cluster][0]:}, {centroides[cluster][1]:})')"
      ],
      "metadata": {
        "colab": {
          "base_uri": "https://localhost:8080/"
        },
        "id": "tJ9FQB1dWKwe",
        "outputId": "762a5e37-ebe9-427c-df93-d4f803eebd7a"
      },
      "execution_count": 88,
      "outputs": [
        {
          "output_type": "stream",
          "name": "stdout",
          "text": [
            "(185, 72) -> Cluster 1 | Distancia al centroide 1: 0.00, Distancia al centroide 2: 21.93\n",
            "Centroide 1: ([185  72])\n",
            "\n",
            "(170, 56) -> Cluster 2 | Distancia al centroide 1: 21.93, Distancia al centroide 2: 0.00\n",
            "Centroide 2: ([170  56])\n",
            "\n",
            "(168, 60) -> Cluster 2 | Distancia al centroide 1: 20.81, Distancia al centroide 2: 4.47\n",
            "Centroide 2: ([169  58])\n",
            "\n",
            "(179, 68) -> Cluster 1 | Distancia al centroide 1: 7.21, Distancia al centroide 2: 14.14\n",
            "Centroide 1: ([182  70])\n",
            "\n",
            "(182, 72) -> Cluster 1 | Distancia al centroide 1: 2.00, Distancia al centroide 2: 19.10\n",
            "Centroide 1: ([182  71])\n",
            "\n",
            "(188, 77) -> Cluster 1 | Distancia al centroide 1: 8.49, Distancia al centroide 2: 26.87\n",
            "Centroide 1: ([185  74])\n",
            "\n",
            "Centroide 1 final: (185, 74)\n",
            "Centroide 2 final: (169, 58)\n"
          ]
        }
      ]
    },
    {
      "cell_type": "code",
      "source": [
        "import numpy as np\n",
        "import matplotlib.pyplot as plt\n",
        "\n",
        "x = np.array([185, 170, 168, 179, 182, 188])\n",
        "y = np.array([72, 56, 60, 68, 72, 77])\n",
        "\n",
        "centroides = np.array([[185, 72], [170, 56]])\n",
        "asignaciones = np.zeros(len(x), dtype=int)\n",
        "\n",
        "for i in range(len(x)):\n",
        "    punto = np.array([x[i], y[i]])\n",
        "\n",
        "    # Cálculo de distancias\n",
        "    distancias = np.sqrt(np.sum((centroides - punto) ** 2, axis=1))\n",
        "\n",
        "    # Asignación de punto a cluster\n",
        "    cluster_asignado = np.argmin(distancias)\n",
        "    asignaciones[i] = cluster_asignado\n",
        "\n",
        "    # Actualización del centroide asignado\n",
        "    centroides[cluster_asignado] = (centroides[cluster_asignado] + punto) / 2\n",
        "\n",
        "# Separaración de puntos por clústeres\n",
        "cluster1_x = x[asignaciones == 0]\n",
        "cluster1_y = y[asignaciones == 0]\n",
        "cluster2_x = x[asignaciones == 1]\n",
        "cluster2_y = y[asignaciones == 1]\n",
        "\n",
        "# Gráfico de los puntos de datos y centroides\n",
        "plt.scatter(cluster1_x, cluster1_y, color='blueviolet', label='Cluster 1')\n",
        "plt.scatter(cluster2_x, cluster2_y, color='red', label='Cluster 2')\n",
        "plt.scatter(centroides[:, 0], centroides[:, 1], c='black', marker='x', s=100, label='Centroides')\n",
        "plt.xlabel('x')\n",
        "plt.ylabel('y')\n",
        "plt.legend()\n",
        "plt.show()"
      ],
      "metadata": {
        "colab": {
          "base_uri": "https://localhost:8080/",
          "height": 449
        },
        "id": "yUl-XnnFW6k1",
        "outputId": "3843a67a-6981-4452-ed7e-3843ce84dfeb"
      },
      "execution_count": 87,
      "outputs": [
        {
          "output_type": "display_data",
          "data": {
            "text/plain": [
              "<Figure size 640x480 with 1 Axes>"
            ],
            "image/png": "[encoded data removed]"
          },
          "metadata": {}
        }
      ]
    }
  ]
}